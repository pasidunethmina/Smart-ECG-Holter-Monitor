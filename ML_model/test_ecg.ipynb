{
 "cells": [
  {
   "cell_type": "code",
   "execution_count": 5,
   "id": "7d405923",
   "metadata": {},
   "outputs": [
    {
     "name": "stdout",
     "output_type": "stream",
     "text": [
      "\u001b[1m1/1\u001b[0m \u001b[32m━━━━━━━━━━━━━━━━━━━━\u001b[0m\u001b[37m\u001b[0m \u001b[1m0s\u001b[0m 82ms/step\n",
      "ECG 1: Abnormal\n",
      "ECG 2: Normal\n",
      "ECG 3: Abnormal\n",
      "ECG 4: Abnormal\n"
     ]
    },
    {
     "name": "stderr",
     "output_type": "stream",
     "text": [
      "C:\\Users\\acer\\AppData\\Roaming\\Python\\Python313\\site-packages\\keras\\src\\saving\\saving_lib.py:797: UserWarning: Skipping variable loading for optimizer 'rmsprop', because it has 10 variables whereas the saved optimizer has 18 variables. \n",
      "  saveable.load_own_variables(weights_store.get(inner_path))\n"
     ]
    }
   ],
   "source": [
    "# ============================\n",
    "# ECG Prediction Notebook\n",
    "# ============================\n",
    "\n",
    "import numpy as np\n",
    "import pandas as pd\n",
    "from tensorflow.keras.models import load_model\n",
    "from sklearn.preprocessing import StandardScaler\n",
    "\n",
    "# ----------------------------\n",
    "# Step 1: Load the trained model\n",
    "# ----------------------------\n",
    "model = load_model(\"ecg_cnn_model.keras\")\n",
    "\n",
    "# ----------------------------\n",
    "# Step 2: Load the saved scaler (same one used during training)\n",
    "# ----------------------------\n",
    "scaler = StandardScaler()   # make sure you saved it earlier with joblib.dump(scaler, \"scaler.pkl\")\n",
    "\n",
    "# ----------------------------\n",
    "# Step 3: Load new ECG data\n",
    "# ----------------------------\n",
    "# Example: new ECG test dataset (without labels)\n",
    "new_df = pd.read_csv(\"ecg_test.csv\", header=None)\n",
    "\n",
    "# ----------------------------\n",
    "# Step 4: Normalize using same scaler\n",
    "# ----------------------------\n",
    "new_X = scaler.fit_transform(new_df.values)\n",
    "\n",
    "# ----------------------------\n",
    "# Step 5: Reshape to match CNN input\n",
    "# ----------------------------\n",
    "new_X = new_X[..., np.newaxis]   # shape: (samples, signal_length, 1)\n",
    "\n",
    "# ----------------------------\n",
    "# Step 6: Predict\n",
    "# ----------------------------\n",
    "predictions = model.predict(new_X)\n",
    "\n",
    "# Convert probabilities → 0 or 1\n",
    "predicted_labels = (predictions > 0.5).astype(int)\n",
    "\n",
    "# ----------------------------\n",
    "# Step 7: Show predictions\n",
    "# ----------------------------\n",
    "for i, p in enumerate(predicted_labels):\n",
    "    print(f\"ECG {i+1}: {'Abnormal' if p[0] == 1 else 'Normal'}\")\n"
   ]
  }
 ],
 "metadata": {
  "kernelspec": {
   "display_name": "Python 3",
   "language": "python",
   "name": "python3"
  },
  "language_info": {
   "codemirror_mode": {
    "name": "ipython",
    "version": 3
   },
   "file_extension": ".py",
   "mimetype": "text/x-python",
   "name": "python",
   "nbconvert_exporter": "python",
   "pygments_lexer": "ipython3",
   "version": "3.13.3"
  }
 },
 "nbformat": 4,
 "nbformat_minor": 5
}
